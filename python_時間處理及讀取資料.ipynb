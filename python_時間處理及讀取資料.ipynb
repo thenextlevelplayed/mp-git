{
 "cells": [
  {
   "cell_type": "markdown",
   "metadata": {
    "id": "x8q1o7KasNPn"
   },
   "source": [
    "# 顯示當前電腦系統的時間"
   ]
  },
  {
   "cell_type": "code",
   "execution_count": 26,
   "metadata": {
    "colab": {
     "base_uri": "https://localhost:8080/"
    },
    "executionInfo": {
     "elapsed": 803,
     "status": "ok",
     "timestamp": 1611482270110,
     "user": {
      "displayName": "Patrick",
      "photoUrl": "https://lh3.googleusercontent.com/a-/AOh14Gg0C8yhlqzxCRt3RSY_fzCGFXnHV_kQ_mmMhTEjKQ=s64",
      "userId": "10015576315968176453"
     },
     "user_tz": -480
    },
    "id": "I_X2gp7QsYx2",
    "outputId": "736eb290-44a4-4c26-c5f2-ab380b5f86a0"
   },
   "outputs": [
    {
     "name": "stdout",
     "output_type": "stream",
     "text": [
      "2021-01-24 09:57:50.079935\n"
     ]
    }
   ],
   "source": [
    "from datetime import datetime as dt\n",
    "print(dt.now())"
   ]
  },
  {
   "cell_type": "markdown",
   "metadata": {},
   "source": [
    "# 日期格式化"
   ]
  },
  {
   "cell_type": "code",
   "execution_count": 9,
   "metadata": {
    "colab": {
     "base_uri": "https://localhost:8080/"
    },
    "executionInfo": {
     "elapsed": 661,
     "status": "ok",
     "timestamp": 1611480273127,
     "user": {
      "displayName": "Patrick",
      "photoUrl": "https://lh3.googleusercontent.com/a-/AOh14Gg0C8yhlqzxCRt3RSY_fzCGFXnHV_kQ_mmMhTEjKQ=s64",
      "userId": "10015576315968176453"
     },
     "user_tz": -480
    },
    "id": "9lIg0l8qsbgO",
    "outputId": "07b4cc2c-ad21-4c75-cbfc-46c180a4fc3a"
   },
   "outputs": [
    {
     "name": "stdout",
     "output_type": "stream",
     "text": [
      "2021-01-24 09:24:33.167713\n",
      "2021/01/24 09:24:33\n"
     ]
    }
   ],
   "source": [
    "import datetime\n",
    "datetime_dt = datetime.datetime.today() # 獲得當地時間\n",
    "datetime_str = datetime_dt.strftime(\"%Y/%m/%d %H:%M:%S\")  # 格式化日期\n",
    "print(datetime_dt)\n",
    "print(datetime_str)"
   ]
  },
  {
   "cell_type": "markdown",
   "metadata": {},
   "source": [
    "# 時差的作法"
   ]
  },
  {
   "cell_type": "code",
   "execution_count": 25,
   "metadata": {
    "colab": {
     "base_uri": "https://localhost:8080/"
    },
    "executionInfo": {
     "elapsed": 681,
     "status": "ok",
     "timestamp": 1611482243099,
     "user": {
      "displayName": "Patrick",
      "photoUrl": "https://lh3.googleusercontent.com/a-/AOh14Gg0C8yhlqzxCRt3RSY_fzCGFXnHV_kQ_mmMhTEjKQ=s64",
      "userId": "10015576315968176453"
     },
     "user_tz": -480
    },
    "id": "vtGUh0Aztv5p",
    "outputId": "36370e73-dfad-4bc4-e30c-c73943876ac9"
   },
   "outputs": [
    {
     "name": "stdout",
     "output_type": "stream",
     "text": [
      "2021-01-24 09:57:23.073055\n",
      "8:00:00\n",
      "2021/01/24 17:57:23\n"
     ]
    }
   ],
   "source": [
    "import datetime\n",
    "datetime_dt = datetime.datetime.today()\n",
    "time_delta =  datetime.timedelta(hours = 8) # 假設時差8小時\n",
    "new_dt = datetime_dt + time_delta # 本地時間+8小時\n",
    "datetime_format = new_dt.strftime(\"%Y/%m/%d %H:%M:%S\") # 格式化日期\n",
    "print(datetime_dt)\n",
    "print(time_delta)\n",
    "print(datetime_format)"
   ]
  },
  {
   "cell_type": "code",
   "execution_count": 3,
   "metadata": {
    "colab": {
     "base_uri": "https://localhost:8080/",
     "height": 204
    },
    "executionInfo": {
     "elapsed": 722,
     "status": "ok",
     "timestamp": 1611480047599,
     "user": {
      "displayName": "Patrick",
      "photoUrl": "https://lh3.googleusercontent.com/a-/AOh14Gg0C8yhlqzxCRt3RSY_fzCGFXnHV_kQ_mmMhTEjKQ=s64",
      "userId": "10015576315968176453"
     },
     "user_tz": -480
    },
    "id": "SOKL-nq3sb76",
    "outputId": "38a90de8-a7c8-4bd6-acc7-7d729e0e63c5"
   },
   "outputs": [
    {
     "data": {
      "text/html": [
       "<div>\n",
       "<style scoped>\n",
       "    .dataframe tbody tr th:only-of-type {\n",
       "        vertical-align: middle;\n",
       "    }\n",
       "\n",
       "    .dataframe tbody tr th {\n",
       "        vertical-align: top;\n",
       "    }\n",
       "\n",
       "    .dataframe thead th {\n",
       "        text-align: right;\n",
       "    }\n",
       "</style>\n",
       "<table border=\"1\" class=\"dataframe\">\n",
       "  <thead>\n",
       "    <tr style=\"text-align: right;\">\n",
       "      <th></th>\n",
       "      <th>name</th>\n",
       "      <th>sex</th>\n",
       "      <th>age</th>\n",
       "      <th>height</th>\n",
       "      <th>weight</th>\n",
       "    </tr>\n",
       "  </thead>\n",
       "  <tbody>\n",
       "    <tr>\n",
       "      <th>0</th>\n",
       "      <td>小明</td>\n",
       "      <td>male</td>\n",
       "      <td>15</td>\n",
       "      <td>154</td>\n",
       "      <td>56</td>\n",
       "    </tr>\n",
       "    <tr>\n",
       "      <th>1</th>\n",
       "      <td>小美</td>\n",
       "      <td>female</td>\n",
       "      <td>23</td>\n",
       "      <td>165</td>\n",
       "      <td>54</td>\n",
       "    </tr>\n",
       "    <tr>\n",
       "      <th>2</th>\n",
       "      <td>小華</td>\n",
       "      <td>male</td>\n",
       "      <td>43</td>\n",
       "      <td>175</td>\n",
       "      <td>65</td>\n",
       "    </tr>\n",
       "    <tr>\n",
       "      <th>3</th>\n",
       "      <td>小東</td>\n",
       "      <td>female</td>\n",
       "      <td>23</td>\n",
       "      <td>156</td>\n",
       "      <td>54</td>\n",
       "    </tr>\n",
       "    <tr>\n",
       "      <th>4</th>\n",
       "      <td>小溪</td>\n",
       "      <td>male</td>\n",
       "      <td>54</td>\n",
       "      <td>154</td>\n",
       "      <td>63</td>\n",
       "    </tr>\n",
       "  </tbody>\n",
       "</table>\n",
       "</div>"
      ],
      "text/plain": [
       "  name     sex  age  height  weight\n",
       "0   小明    male   15     154      56\n",
       "1   小美  female   23     165      54\n",
       "2   小華    male   43     175      65\n",
       "3   小東  female   23     156      54\n",
       "4   小溪    male   54     154      63"
      ]
     },
     "execution_count": 3,
     "metadata": {
      "tags": []
     },
     "output_type": "execute_result"
    }
   ],
   "source": [
    "import pandas as pd\n",
    "pd.read_csv(\"test.csv\")"
   ]
  }
 ],
 "metadata": {
  "colab": {
   "authorship_tag": "ABX9TyPD1Il8H0w66PTSrDS3hV6X",
   "collapsed_sections": [],
   "name": "109C1046_陳鵬丞 week4.ipynb",
   "provenance": [],
   "toc_visible": true
  },
  "kernelspec": {
   "display_name": "Python 3",
   "language": "python",
   "name": "python3"
  },
  "language_info": {
   "codemirror_mode": {
    "name": "ipython",
    "version": 3
   },
   "file_extension": ".py",
   "mimetype": "text/x-python",
   "name": "python",
   "nbconvert_exporter": "python",
   "pygments_lexer": "ipython3",
   "version": "3.8.5"
  }
 },
 "nbformat": 4,
 "nbformat_minor": 1
}
