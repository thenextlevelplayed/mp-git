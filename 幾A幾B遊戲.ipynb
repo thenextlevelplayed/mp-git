{
 "cells": [
  {
   "cell_type": "markdown",
   "metadata": {
    "id": "kvV-mTghsaDR"
   },
   "source": [
    "情境: \n",
    "請輸入4個數字:2233 \n",
    "\n",
    "第1次猜測(正解2243):目前結果3A0B \n",
    "\n",
    "請輸入3個數字:2254 \n",
    "\n",
    "輸入錯誤請輸入3個數字 \n",
    "\n",
    "請輸入3個數字:2255 \n",
    "\n",
    "第2次猜測(正解224):目前結果2A0B 斜體文字\n",
    "\n",
    "請輸入3個數字:2243 \n",
    "\n",
    "恭喜通關答案:2243 \n",
    "\n",
    "是否再玩一輪(Y/N):Y16\n"
   ]
  },
  {
   "cell_type": "code",
   "execution_count": 2,
   "metadata": {
    "colab": {
     "base_uri": "https://localhost:8080/"
    },
    "id": "ANToe22rr1Z_",
    "outputId": "8c00bfd6-45c0-4398-e98f-9dd0d7c38207"
   },
   "outputs": [
    {
     "name": "stdout",
     "output_type": "stream",
     "text": [
      "請輸入4個數字:1242\n",
      "[1, 2, 4, 2]\n",
      "正解 2514\n",
      "0 A 1 B\n",
      "請輸入4個數字:2222\n",
      "[2, 2, 2, 2]\n",
      "正解 2514\n",
      "1 A 1 B\n",
      "請輸入4個數字:1212\n",
      "[1, 2, 1, 2]\n",
      "正解 2514\n",
      "1 A 1 B\n",
      "請輸入4個數字:1222\n",
      "[1, 2, 2, 2]\n",
      "正解 2514\n",
      "0 A 1 B\n",
      "請輸入4個數字:2514\n",
      "[2, 5, 1, 4]\n",
      "正解 2514\n",
      "4 A 1 B\n",
      "恭喜!猜對了。\n",
      "你想要重玩嗎? [y]是的 [n]不了\n",
      "n\n"
     ]
    }
   ],
   "source": [
    "#此設計若輸入相同4個數字則會出現幾A幾B計算的錯誤!\n",
    "import numpy as np\n",
    "\n",
    "def diffloc(a,b): #設定對比數字位置和數字的函式 並用數字:A 數字:B 代表幾A幾B\n",
    "    A=B=0\n",
    "    for i in range(4):\n",
    "        if a[i] == b[i]: #相同位置對比\n",
    "            A+=1       #位置相同數字相同將A+1\n",
    "    else:\n",
    "        if a[i] in b:\n",
    "            B+=1 \n",
    "    return print(A,'A',B,'B')\n",
    "\n",
    "# def game_info(self):\n",
    "\n",
    "\n",
    "\n",
    "\n",
    "repeat=True #是否重複遊戲,預設為是\n",
    "while repeat==True: #如果重複則繼續\n",
    "    _answer = np.random.randint(1000,9999)\n",
    "    bingo=False #預設為沒有猜對\n",
    "    while bingo==False:\n",
    "        enter = input(\"請輸入4個數字:\")\n",
    "        enter = str(enter)\n",
    "        _answer = str(_answer)\n",
    "        _num = []\n",
    "        _ans = []\n",
    "        for x in enter:  #將輸入數字的int轉變成字串\n",
    "          _num.append(int(x))\n",
    "        print(_num)\n",
    "        for y in _answer: #將答案的int轉變成字串  \n",
    "          _ans.append(int(y))\n",
    "        print(\"正解\",_answer)\n",
    "        result = []\n",
    "        result.append(diffloc(_num,_ans)) #將數字轉變成字串加入list裡面 並透過函式比對 幾A幾B的結果放入result list裡面 \n",
    "        result\n",
    "        if _num != _ans: #如果 輸入數字不等於答案\n",
    "            result     #給出透過函式比對 幾A幾B\n",
    "        else:        #若數字等於答案\n",
    "            _num == _ans  \n",
    "            print(\"恭喜!猜對了。\")\n",
    "            bingo=True #修改bool值\n",
    "            print(\"你想要重玩嗎? [y]是的 [n]不了\")#如果輸入y重玩,輸入n退出\n",
    "            re=input()\n",
    "            if re==\"n\":\n",
    "                repeat=False\n"
   ]
  },
  {
   "cell_type": "code",
   "execution_count": 4,
   "metadata": {
    "colab": {
     "base_uri": "https://localhost:8080/",
     "height": 923
    },
    "executionInfo": {
     "elapsed": 70794,
     "status": "error",
     "timestamp": 1615184647517,
     "user": {
      "displayName": "賴立軒",
      "photoUrl": "",
      "userId": "11769482871092966517"
     },
     "user_tz": -480
    },
    "id": "CsRIyKJVFV0N",
    "outputId": "91f37304-ddbd-4576-900c-3491e8aa2f87"
   },
   "outputs": [
    {
     "name": "stdout",
     "output_type": "stream",
     "text": [
      "請輸入3個數字:123\n",
      "[1, 2, 3]\n",
      "正解 584\n",
      "0 A 0 B\n",
      "請輸入3個數字:456\n",
      "[4, 5, 6]\n",
      "正解 584\n",
      "0 A 2 B\n",
      "請輸入3個數字:789\n",
      "[7, 8, 9]\n",
      "正解 584\n",
      "1 A 0 B\n",
      "請輸入3個數字:579\n",
      "[5, 7, 9]\n",
      "正解 584\n",
      "1 A 0 B\n",
      "請輸入3個數字:581\n",
      "[5, 8, 1]\n",
      "正解 584\n",
      "2 A 0 B\n",
      "請輸入3個數字:584\n",
      "[5, 8, 4]\n",
      "正解 584\n",
      "3 A 0 B\n",
      "恭喜!猜對了。\n",
      "你想要重玩嗎? [y]是的 [n]不了\n",
      "n\n"
     ]
    }
   ],
   "source": [
    "#此設計若輸入相同4個數字則會出現幾A幾B計算的錯誤!\n",
    "import numpy as np\n",
    "\n",
    "def diffloc(a,b): #設定對比數字位置和數字的函式 並用數字:A 數字:B 代表幾A幾B\n",
    "  A=B=0\n",
    "  \n",
    "  for i in range(3):\n",
    "    if a[i] == b[i]: #相同位置對比\n",
    "      A+=1       #位置相同數字相同將A+1\n",
    "    else:\n",
    "      if a[i] in b: \n",
    "          B+=1 \n",
    "  return print(A,'A',B,'B')\n",
    "\n",
    "# def game_info(self):\n",
    "\n",
    "\n",
    "\n",
    "\n",
    "repeat=True #是否重複遊戲,預設為是\n",
    "while repeat==True: #如果重複則繼續\n",
    "  _answer = np.random.randint(100,1000)\n",
    "  bingo=False #預設為沒有猜對\n",
    "  while bingo==False:\n",
    "    enter = input(\"請輸入3個數字:\")\n",
    "    enter = str(enter)\n",
    "    _answer = str(_answer)\n",
    "    _num = []\n",
    "    _ans = []\n",
    "    for x in enter:  #將輸入數字的int轉變成字串\n",
    "      _num.append(int(x))\n",
    "    print(_num)\n",
    "    for y in _answer: #將答案的int轉變成字串  \n",
    "      _ans.append(int(y))\n",
    "    print(\"正解\",_answer)\n",
    "    result = []\n",
    "    result.append(diffloc(_num,_ans)) #將數字轉變成字串加入list裡面 並透過函式比對 幾A幾B的結果放入result list裡面 \n",
    "    result\n",
    "    if _num != _ans: #如果 輸入數字不等於答案\n",
    "      result     #給出透過函式比對 幾A幾B\n",
    "    else:        #若數字等於答案\n",
    "      _num == _ans  \n",
    "      print(\"恭喜!猜對了。\")\n",
    "      bingo=True #修改bool值\n",
    "      print(\"你想要重玩嗎? [y]是的 [n]不了\")#如果輸入y重玩,輸入n退出\n",
    "      re=input()\n",
    "      if re==\"n\":\n",
    "        repeat=False\n"
   ]
  },
  {
   "cell_type": "code",
   "execution_count": null,
   "metadata": {
    "id": "SpL_B4r07Zk_"
   },
   "outputs": [],
   "source": []
  }
 ],
 "metadata": {
  "colab": {
   "collapsed_sections": [],
   "name": "109C1046_陳鵬丞 week7.ipynb",
   "provenance": []
  },
  "kernelspec": {
   "display_name": "Python 3",
   "language": "python",
   "name": "python3"
  },
  "language_info": {
   "codemirror_mode": {
    "name": "ipython",
    "version": 3
   },
   "file_extension": ".py",
   "mimetype": "text/x-python",
   "name": "python",
   "nbconvert_exporter": "python",
   "pygments_lexer": "ipython3",
   "version": "3.8.5"
  }
 },
 "nbformat": 4,
 "nbformat_minor": 1
}
